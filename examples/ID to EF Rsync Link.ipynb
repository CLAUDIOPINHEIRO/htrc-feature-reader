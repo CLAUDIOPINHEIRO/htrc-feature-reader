{
 "cells": [
  {
   "cell_type": "markdown",
   "metadata": {},
   "source": [
    "# Finding a volume's Extracted Features data from a HathiTrust volume ID"
   ]
  },
  {
   "cell_type": "markdown",
   "metadata": {},
   "source": [
    "The filepath to sync Extracted Features files through RSync follows a [pairtree format](https://wiki.ucop.edu/display/Curation/PairTree?preview=/14254128/16973838/PairtreeSpec.pdf), keeping the institutional shortcode intact (e.g. mpd, uc2). If you don't have it, you may have to install the pairtree library with `pip install pairtree` (only compatible with Python 2.X)."
   ]
  },
  {
   "cell_type": "code",
   "execution_count": null,
   "metadata": {
    "collapsed": false
   },
   "outputs": [],
   "source": [
    "import sys\n",
    "import pairtree.pairtree_path as pp"
   ]
  },
  {
   "cell_type": "markdown",
   "metadata": {},
   "source": [
    "This method converts the ID the pair tree path, which can then be downloaded through Rsync:"
   ]
  },
  {
   "cell_type": "code",
   "execution_count": null,
   "metadata": {
    "collapsed": false
   },
   "outputs": [],
   "source": [
    "def id_to_rsync(htid, kind='basic'):\n",
    "    '''\n",
    "    Take an HTRC id and convert it to an Rsync location for syncing Extracted\n",
    "    Features\n",
    "    \n",
    "    kind: [basic|advanced]\n",
    "    '''\n",
    "    libid, volid = htid.split('.', 1)\n",
    "    volid_clean = pp.id_encode(volid)\n",
    "    filename = \".\".join([libid, volid_clean, kind, 'json.bz2'])\n",
    "    pairtree_root = [kind, libid, 'pairtree_root']\n",
    "    path = pairtree_root + pp.id_to_dir_list(volid) + [volid_clean, filename]\n",
    "    return '/'.join(path)"
   ]
  },
  {
   "cell_type": "markdown",
   "metadata": {},
   "source": [
    "For example,"
   ]
  },
  {
   "cell_type": "code",
   "execution_count": null,
   "metadata": {
    "collapsed": false,
    "scrolled": true
   },
   "outputs": [],
   "source": [
    "id_to_rsync('miun.adx6300.0001.001')"
   ]
  },
  {
   "cell_type": "markdown",
   "metadata": {},
   "source": [
    "The Extracted Features for this volume can be downloaded using RSync:\n",
    "\n",
    "```\n",
    "rsync -azv data.sharc.hathitrust.org::pd-features/{{URL}} .\n",
    "```"
   ]
  },
  {
   "cell_type": "markdown",
   "metadata": {},
   "source": [
    "## Compiling and downloading a list of volumes"
   ]
  },
  {
   "cell_type": "markdown",
   "metadata": {},
   "source": [
    "`select.txt` contains a set of ids for 10k HathiTrust Digital Library volumes in the PZ class (_Fiction and juvenile belles lettres_), that were collected from the HTRC from though its Solr Proxy:\n",
    "\n",
    "http://chinkapin.pti.indiana.edu:9994/solr/meta/select/?q=callnumber:PZ*&wt=csv&fl=id&rows=10000\n",
    "\n",
    "Here is what the id's look like:"
   ]
  },
  {
   "cell_type": "code",
   "execution_count": null,
   "metadata": {
    "collapsed": false
   },
   "outputs": [],
   "source": [
    "idlist = file(\"select.txt\", \"r+\").readlines()\n",
    "idlist = [id.strip() for id in idlist[1:]]\n",
    "print(idlist[:3])"
   ]
  },
  {
   "cell_type": "code",
   "execution_count": null,
   "metadata": {
    "collapsed": false
   },
   "outputs": [],
   "source": [
    "rsynclist = [id_to_rsync(v) for v in idlist]\n",
    "rsynclist[:2]"
   ]
  },
  {
   "cell_type": "markdown",
   "metadata": {},
   "source": [
    "We can also write the full list of our desired volume urls to a file and tell rsync to download from that list."
   ]
  },
  {
   "cell_type": "code",
   "execution_count": null,
   "metadata": {
    "collapsed": false
   },
   "outputs": [],
   "source": [
    "# Write to file\n",
    "rsyncf = open('rsync-urls.txt', 'w+')\n",
    "rsyncf.write(\"\\n\".join(rsynclist))\n",
    "rsyncf.close()"
   ]
  },
  {
   "cell_type": "markdown",
   "metadata": {},
   "source": [
    "Syncing from a file of URLs can be done as follows:\n",
    "\n",
    "```\n",
    "rsync -azv --files-from=rsync-urls.txt data.sharc.hathitrust.org::pd-features/ files/\n",
    "```\n",
    "\n",
    "If you don't need the full pair tree directory structure, it can be flattened to a single folder. This example uses [GNU Parallel](http://www.gnu.org/software/parallel/), available for Linux or Mac OS, or installed on Cygwin in Windows.\n",
    "\n",
    "```\n",
    "find analysis/sample-files/advanced -type -f | parallel --eta mv {} analysis/sample-files\n",
    "rm -rf advanced\n",
    "```"
   ]
  },
  {
   "cell_type": "markdown",
   "metadata": {},
   "source": [
    "## Explanation of ID-to-URL encoding"
   ]
  },
  {
   "cell_type": "code",
   "execution_count": null,
   "metadata": {
    "collapsed": false
   },
   "outputs": [],
   "source": [
    "htid = 'miun.adx6300.0001.001'\n",
    "kind = 'basic'\n",
    "libid, volid = htid.split('.', 1)\n",
    "print(\"Institution:\\t%s\\nId:\\t\\t%s\" % (libid, volid))"
   ]
  },
  {
   "cell_type": "markdown",
   "metadata": {},
   "source": [
    "The extracted Features dataset has _advanced_ and _basic_ files. For most uses, you'll want the information in _basic_, and _advanced_ may be removed in future releases.\n",
    "\n",
    "The HathiTrust id uses the institution's identifier separately, _miun_ (Michigan University) in this case."
   ]
  },
  {
   "cell_type": "code",
   "execution_count": null,
   "metadata": {
    "collapsed": false
   },
   "outputs": [],
   "source": [
    "volid_clean = pp.id_encode(volid)\n",
    "filename = \".\".join([libid, volid_clean, kind, 'json.bz2'])\n",
    "print(\"Filename:\\t%s\" % filename)"
   ]
  },
  {
   "cell_type": "code",
   "execution_count": null,
   "metadata": {
    "collapsed": false
   },
   "outputs": [],
   "source": [
    "pairtree_root = [kind, libid, 'pairtree_root']\n",
    "path = pairtree_root + pp.id_to_dir_list(volid) + [volid_clean, filename]\n",
    "print(\"Pairtree Root:\\t%s\" % pairtree_root)\n",
    "print(\"Full Path:\\t%s\" % ('/'.join(path)))"
   ]
  },
  {
   "cell_type": "markdown",
   "metadata": {},
   "source": [
    "The institutional id is split up and encoded, then recombined into a path."
   ]
  }
 ],
 "metadata": {
  "kernelspec": {
   "display_name": "Python 2",
   "language": "python",
   "name": "python2"
  },
  "language_info": {
   "codemirror_mode": {
    "name": "ipython",
    "version": 2
   },
   "file_extension": ".py",
   "mimetype": "text/x-python",
   "name": "python",
   "nbconvert_exporter": "python",
   "pygments_lexer": "ipython2",
   "version": "2.7.10"
  }
 },
 "nbformat": 4,
 "nbformat_minor": 0
}
